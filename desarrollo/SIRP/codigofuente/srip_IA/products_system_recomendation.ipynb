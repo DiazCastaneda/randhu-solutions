{
 "cells": [
  {
   "cell_type": "code",
   "execution_count": 28,
   "metadata": {},
   "outputs": [],
   "source": [
    "import pandas as pd\n",
    "from sklearn.feature_extraction.text import TfidfVectorizer\n",
    "from sklearn.metrics.pairwise import linear_kernel \n",
    "ds = pd.read_csv(\"articulos.csv\")"
   ]
  },
  {
   "cell_type": "code",
   "execution_count": 29,
   "metadata": {},
   "outputs": [],
   "source": [
    "tf = TfidfVectorizer(analyzer='word', ngram_range=(1, 3), min_df=0)\n",
    "tfidf_matrix = tf.fit_transform(ds['Marca'])"
   ]
  },
  {
   "cell_type": "code",
   "execution_count": 38,
   "metadata": {},
   "outputs": [],
   "source": [
    "cosine_similarities = linear_kernel(tfidf_matrix, tfidf_matrix) \n",
    "results = {}\n",
    "for idx, row in ds.iterrows():\n",
    "   similar_indices = cosine_similarities[idx].argsort()[:-100:-1] \n",
    "   similar_items = [(cosine_similarities[idx][i], ds['id_articulo'][i]) for i in similar_indices] \n",
    "   results[row['id_articulo']] = similar_items[1:]"
   ]
  },
  {
   "cell_type": "code",
   "execution_count": 50,
   "metadata": {},
   "outputs": [],
   "source": [
    "def item(id):  \n",
    "  return ds.loc[ds['id_articulo'] == id]['articulo'].tolist()[0]\n",
    "\n",
    "# Just reads the results out of the dictionary.def \n",
    "def recommend(item_id, num):\n",
    "    print(\"Recomendando \" + str(num) + \" productos similar a \" + item(item_id) + \"...\")   \n",
    "    print(\"-------\")    \n",
    "    recs = results[item_id][:num]\n",
    "    for rec in recs: \n",
    "       print(\"Recomendado: \" + item(rec[1]) + \" (puntuacion:\" +      str(rec[0]) + \")\")\n"
   ]
  },
  {
   "cell_type": "code",
   "execution_count": 51,
   "metadata": {
    "scrolled": true
   },
   "outputs": [
    {
     "name": "stdout",
     "output_type": "stream",
     "text": [
      "Recomendando 10 productos similar a AGUA LIGHT X 21 UN X 210 GR....\n",
      "-------\n",
      "Recomendado: VIZZIO LATA X 12 UN X 182 GR. (puntuacion:1.0)\n",
      "Recomendado: WAFER CLAS. VAINILLA X 28 UN X 140 GR. (puntuacion:1.0)\n",
      "Recomendado: CANCUN X 12 DP X 24 (puntuacion:1.0)\n",
      "Recomendado: CANCUN BIZCOCHO X 14 PK X 6 (puntuacion:1.0)\n",
      "Recomendado: VIZZIO SOBRE X 10 DP X 20 (puntuacion:1.0)\n",
      "Recomendado: VIZZIO X 60 UN X 72 GR. (puntuacion:1.0)\n",
      "Recomendado: VIZZIO ESTUCHE X 12 UN X 131 GR. (puntuacion:1.0)\n",
      "Recomendado: GRETEL MANJAR X 16 PK X 6 (puntuacion:1.0)\n",
      "Recomendado: WAFER CLAS. FRESA X 28 UN X 140 GR. (puntuacion:1.0)\n",
      "Recomendado: GRETEL CHOCOLATE X 16 PK X 6 (puntuacion:1.0)\n"
     ]
    }
   ],
   "source": [
    "recommend(item_id=482, num=10)"
   ]
  },
  {
   "cell_type": "code",
   "execution_count": null,
   "metadata": {},
   "outputs": [],
   "source": []
  }
 ],
 "metadata": {
  "kernelspec": {
   "display_name": "Python 3",
   "language": "python",
   "name": "python3"
  },
  "language_info": {
   "codemirror_mode": {
    "name": "ipython",
    "version": 3
   },
   "file_extension": ".py",
   "mimetype": "text/x-python",
   "name": "python",
   "nbconvert_exporter": "python",
   "pygments_lexer": "ipython3",
   "version": "3.7.3"
  }
 },
 "nbformat": 4,
 "nbformat_minor": 2
}
